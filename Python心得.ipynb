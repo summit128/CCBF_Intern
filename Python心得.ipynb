{
 "cells": [
  {
   "cell_type": "code",
   "execution_count": 1,
   "metadata": {},
   "outputs": [],
   "source": [
    "import os \n",
    "import math\n",
    "import numpy as np\n",
    "import pandas as pd "
   ]
  },
  {
   "attachments": {},
   "cell_type": "markdown",
   "metadata": {},
   "source": [
    "### 一. Python语言基础\n",
    "#### 1.数据类型\n",
    "Python3 共有六个标准数据类型   \n",
    "* 不可变数据（3 个）：\n",
    "    * Number（数字）  \n",
    "    * String（字符串）  \n",
    "    * Tuple（元组）  \n",
    "* 可变数据（3 个）：\n",
    "    * List（列表）  \n",
    "    * Dictionary（字典）  \n",
    "    * Set（集合）   "
   ]
  },
  {
   "attachments": {},
   "cell_type": "markdown",
   "metadata": {},
   "source": [
    "**1.1 数字**  \n",
    "- 共有 int、float、bool、complex 4种数据类型  \n",
    "- 复数由实数部分和虚数部分构成，可以用 a + bj，或者 complex(a,b) 表示， 复数的实部 a 和虚部 b 都是浮点型  \n",
    "\n",
    "1.1.1 计算部分的tips  \n",
    "- 整数除法  \n",
    "Python 中，// 是整数除法运算，运算结果是商的整数部分，是一个整数\n",
    "- 浮点数除法  \n",
    "Python 中，/ 是浮点数除法运算，运算结果是商，是一个浮点数\n",
    "- 求模\n",
    "Python 中，% 是浮点数求模运算，运算结果是余数"
   ]
  },
  {
   "cell_type": "code",
   "execution_count": 2,
   "metadata": {
    "pycharm": {
     "is_executing": true
    }
   },
   "outputs": [
    {
     "name": "stdout",
     "output_type": "stream",
     "text": [
      "2 2.5 1\n"
     ]
    }
   ],
   "source": [
    "print(5//2,5/2,5%2)"
   ]
  },
  {
   "attachments": {},
   "cell_type": "markdown",
   "metadata": {},
   "source": [
    "1.1.2 类型转换  \n",
    "- 将整数转换为字符串  \n",
    "str( )  \n",
    "- 将字符串转换为整数  \n",
    "int( )  \n",
    "\n",
    "1.1.3 常用数学函数  \n",
    "在 Python 的 math 模块中包含如下常用的函数：  \n",
    "|函数|功能|\n",
    "|:--:|:--:|\n",
    "|fabs(x)|返回浮点数的绝对值|\n",
    "|ceil(x)|返回数值的上入整数|\n",
    "|exp(x)|返回 e 的 x 次幂|\n",
    "|floor(x)|返回浮点数的下舍整数|\n",
    "|log(x)|返回 x 的自然对数|\n",
    "|max(x, y)|返回给定参数的最大值|\n",
    "|min(x, y)|返回给定参数的最小值|\n",
    "|pow(x, y)|返回以 x 为底y 为指的运算结果|\n",
    "|round(x)|返回 x 的 四舍五入值|\n",
    "|sqrt(x)|返回数值 x 的平方根|\n",
    "\n",
    "1.1.4 布尔值运算  \n",
    "|逻辑运算|表达式|功能描述|\n",
    "|:--:|:--:|:--:|\n",
    "|与|x and y|x 和 y均为真结果为真|\n",
    "|或|x or y|x 和 y 均为假结果为假|\n",
    "|非|not x|x 为真则结果为假|\n"
   ]
  },
  {
   "cell_type": "code",
   "execution_count": 3,
   "metadata": {},
   "outputs": [
    {
     "name": "stdout",
     "output_type": "stream",
     "text": [
      "4.67 5 4 27 False True False\n"
     ]
    }
   ],
   "source": [
    "print(math.fabs(-4.67),math.ceil(4.67),math.floor(4.67),pow(3,3),\\\n",
    "        True and False,True or False,not True)"
   ]
  },
  {
   "attachments": {},
   "cell_type": "markdown",
   "metadata": {},
   "source": [
    "**1.2 列表** \n",
    "  \n",
    "列表因占用空间小，浪费内存空间少而成为 Python 中使用最频繁的数据类型  \n",
    "- 由方括号 [ ] 定义，用逗号分隔开  \n",
    "- 列表中元素的类型可以不相同，它支持数字，字符串以及列表本身  \n",
    "- 列表中的元素是可以改变的   \n",
    "\n",
    "1.2.1 列表的运算操作  \n",
    "- 使用运算符 + 连接两个及以上数量的列表  \n",
    "- 使用运算符 * 将列表的元素重复，符号左边为列表，右边为重复次数  \n",
    "- 使用索引 list[a] 获取位置a的元素，a为位置坐标，左数从0开始，右数从-1开始  \n",
    "- 使用 `list[start:end:step]` 获取在 `[start, end)` 范围的子列表，省略代表取到头，步长为`step`，为负数表示逆向读取(此时位置坐标也需要为负数)  \n",
    "- 关键字 in 检查列表中是否包含指定元素，返回布尔值"
   ]
  },
  {
   "cell_type": "code",
   "execution_count": 4,
   "metadata": {},
   "outputs": [
    {
     "name": "stdout",
     "output_type": "stream",
     "text": [
      "[3, 2, 5, 44, 6, 7, 345, 6, 7, 3, 4, 3, 2, 5, 44, 6, 7, 345, 6, 7, 3, 4] 44 3 [4, 3, 7, 6, 345, 7, 6, 44, 5, 2, 3] False True\n"
     ]
    }
   ],
   "source": [
    "exmp_121 = [3,2,5,44,6,7,345,6,7,3,4]\n",
    "print(exmp_121*2,exmp_121[3],exmp_121[-2],exmp_121[-1::-1],\\\n",
    "        34 in exmp_121,44 in exmp_121)"
   ]
  },
  {
   "attachments": {},
   "cell_type": "markdown",
   "metadata": {},
   "source": [
    "1.2.2 列表的常见函数  \n",
    "\n",
    "函数是直接调用的，不需要跟在某一对象后使用；方法需要跟在某一对象后调用  \n",
    "- len( ) 获取列表长度，该函数可使用对象同样包括元组、集合等所有可迭代对象  \n",
    "- max( ) 获取列表最大元素，min( )获取列表最小元素，前提是列表中元素必须全部为数字"
   ]
  },
  {
   "cell_type": "code",
   "execution_count": 5,
   "metadata": {},
   "outputs": [
    {
     "name": "stdout",
     "output_type": "stream",
     "text": [
      "11 345 2\n"
     ]
    }
   ],
   "source": [
    "print(len(exmp_121),max(exmp_121),min(exmp_121))"
   ]
  },
  {
   "attachments": {},
   "cell_type": "markdown",
   "metadata": {},
   "source": [
    "1.2.3 列表的常用方法  \n",
    "\n",
    "- 列表元素的增加\n",
    "    - list.append(item)，默认将item添加于序列末  \n",
    "    - list.insert(loc,item)，将item插入loc位置"
   ]
  },
  {
   "cell_type": "code",
   "execution_count": 6,
   "metadata": {},
   "outputs": [
    {
     "name": "stdout",
     "output_type": "stream",
     "text": [
      "[3, 2, 5, 44, 6, 7, 345, 6, 7, 3, 4, [0, 1]]\n",
      "[3, 2, [1, 2], 5, 44, 6, 7, 345, 6, 7, 3, 4, [0, 1]]\n"
     ]
    }
   ],
   "source": [
    "exmp_121.append([0,1])\n",
    "print(exmp_121)\n",
    "exmp_121.insert(2,[1,2])\n",
    "print(exmp_121)"
   ]
  },
  {
   "attachments": {},
   "cell_type": "markdown",
   "metadata": {},
   "source": [
    "- 列表元素的删除  \n",
    "    - list.pop(loc)，删除loc位置的元素，缺省值默认删除最后一个，接受参数个数只能为1\n",
    "    - list.remove(item)，删除指定的item元素，同样只接受一个参数"
   ]
  },
  {
   "cell_type": "code",
   "execution_count": 7,
   "metadata": {},
   "outputs": [
    {
     "name": "stdout",
     "output_type": "stream",
     "text": [
      "[3, 2, 5, 6, 7, 345, 6, 7, 3, 4, [0, 1]]\n"
     ]
    }
   ],
   "source": [
    "exmp_121.pop(2)\n",
    "exmp_121.remove(44)\n",
    "print(exmp_121)"
   ]
  },
  {
   "attachments": {},
   "cell_type": "markdown",
   "metadata": {},
   "source": [
    "- 列表元素的定位  \n",
    "    - list.index(item) 查找指定元素item的索引，若不存在该元素则抛出异常  \n",
    "- 列表逆序排列\n",
    "    - list.reverse( )，无参数，**`.reverse( )`方法并不提供返回值，而是直接将原列表进行逆序**，因此输出`.reverse( )` 方法结果为空\n",
    "- 列表元素排序\n",
    "    - list.sort( )，缺省递增，参数`reverse = True`递减排序，同样sort方法不提供返回值"
   ]
  },
  {
   "cell_type": "code",
   "execution_count": 8,
   "metadata": {},
   "outputs": [
    {
     "name": "stdout",
     "output_type": "stream",
     "text": [
      "4\n",
      "None\n",
      "[3, 2, 5, 6, 7, 345, 6, 7, 3, 4, [0, 1]]\n",
      "[2, 3, 3, 4, 5, 6, 6, 7, 7, 345]\n"
     ]
    }
   ],
   "source": [
    "print(exmp_121.index(7))\n",
    "print(exmp_121.reverse())\n",
    "exmp_121.reverse()\n",
    "print(exmp_121)\n",
    "exmp_121.pop()\n",
    "exmp_121.sort()\n",
    "print(exmp_121)"
   ]
  },
  {
   "attachments": {},
   "cell_type": "markdown",
   "metadata": {},
   "source": [
    "**1.3 字符串**  \n",
    "\n",
    "使用单引号或者双引号创建字符串，使用三引号或六引号允许创建一个跨多行的字符串  \n",
    "与 C 字符串不同的是，Python 字符串不能被改变，向一个索引位赋值，如 word[0] = 'm' 会导致错误\n",
    "\n",
    "1.3.1 字符串的运算操作  \n",
    "- 使用运算符 + 连接两个及以上数量的字符串  \n",
    "- 使用运算符 * 将字符串重复，符号左边为字符串，右边为重复次数  \n",
    "- 使用索引 str[a] 获取位置a的元素，a为位置坐标，左数从0开始，右数从-1开始  \n",
    "- 使用 str[start:end:step] 获取在 [start, end) 范围的子字符串，省略代表取到头，步长为step，为负数表示逆向读取(此时位置坐标也需要为负数)  \n",
    "- 关键字 in 检查字符串中是否包含指定元素，返回布尔值  \n",
    "\n",
    "1.3.2 字符串的常用方法  \n",
    "- str.capitalize( ) ，大写首字母  \n",
    "- str.count ( ) ，统计子字符串出现的次数  \n",
    "- str.startswith (target)，检查字符串是否是以字符串 target 开头，返回布尔值  \n",
    "- str.endswith (target)，检查字符串是否是以字符串 target 结束，返回布尔值  \n",
    "- str.lower( )，所有大写降小写  \n",
    "- str.upper( )，所有小写升大写  \n",
    "- str.islower( )，检查是否所有字符是小写  \n",
    "- str.isupper( )，检查是否所有字符是大写  \n",
    "- str.find(target)，检查是否包含指定字符串 target，如果包含字符串 target 则返回字符串开始的索引值，否则返回 -，类似列表的`.index()`，区别在于不会报错\n",
    "- str.split( )，使用空格将字符串分割为多个单词，返回列表，参数为指定分隔符"
   ]
  },
  {
   "cell_type": "code",
   "execution_count": 9,
   "metadata": {},
   "outputs": [
    {
     "name": "stdout",
     "output_type": "stream",
     "text": [
      "9 -1\n"
     ]
    }
   ],
   "source": [
    "The_Declaration_of_Independence = '我宣布个事，我是个傻逼！'\n",
    "print(The_Declaration_of_Independence.find('傻逼'),The_Declaration_of_Independence.find('Idiot'))"
   ]
  },
  {
   "attachments": {},
   "cell_type": "markdown",
   "metadata": {},
   "source": [
    "1.3.3 转义符  \n",
    "\n",
    "使用反斜杠 \\ 加字母的组合来表示一些特殊字符，\\ 之后的字符的含义已经不再是原来 ASCII 字符的含义了，所以被称为转义字符\n",
    "\n",
    "|转义字符|含义描述|\n",
    "|:--:|:--:|\n",
    "|\\t|制表|\n",
    "|\\n|换行|\n",
    "|\\'|'|\n",
    "|\\\"|\"|\n",
    "|\\\\\\ |\\\\ |  \n",
    "\n",
    "1.3.4 字符串格式化  \n",
    "\n",
    "字符串格式化用于简化拼接多个字符串  \n",
    "- str.format( )，str中设置占位符 { } 或 %s，format中的参数用于替换占位符，若只有一个则不需要封装在元组中，无返回值  \n",
    "- 使用%设置占位符需要考虑占位符类型，表达方式如下\n",
    "\n",
    "|字符|描述|\n",
    "|:--:|:--:|\n",
    "|%%|%|\n",
    "|%s|字符|\n",
    "|%d|整数|\n",
    "|%f|浮点数|  \n"
   ]
  },
  {
   "cell_type": "code",
   "execution_count": 10,
   "metadata": {},
   "outputs": [
    {
     "name": "stdout",
     "output_type": "stream",
     "text": [
      "我是个傻逼 我是个傻逼\n"
     ]
    }
   ],
   "source": [
    "who = '我'\n",
    "what = '傻逼'\n",
    "text_131 = '{}是个{}'\n",
    "a13 = text_131.format(who,what)\n",
    "text_132 = '%s是个%s'\n",
    "b13 = text_132 % (who,what)\n",
    "print(a13,b13)"
   ]
  },
  {
   "attachments": {},
   "cell_type": "markdown",
   "metadata": {},
   "source": [
    "**1.4 元组**  \n",
    "\n",
    "- 由括号 ( ) 定义，用逗号分隔开  \n",
    "- 元组与列表相似区别在于元组创建后不可修改  \n",
    "- 所有针对列表的方法(即除`.index()`外)若涉及对列表的修改，则对元组均不可用\n",
    "- 用元组储存不变的信息，这就是元组的意义"
   ]
  },
  {
   "attachments": {},
   "cell_type": "markdown",
   "metadata": {},
   "source": [
    "**1.5 字典**  \n",
    "\n",
    "字典是由`{ }`所定义的键值对，键可以理解为字典的索引\n",
    "\n",
    "1.5.1 常见字典操作  \n",
    "- 读取：`dic[key]`读取键key所对应的值  \n",
    "- 修改：读取后直接赋新值  \n",
    "- 增加键值对：`dic[new_key] = new_value`  \n",
    "- 删除键值对：`del dic[key]`\n",
    "\n",
    "1.5.2 常见函数  \n",
    "- len(dic)，获取字典中的键值对数  \n",
    "\n",
    "1.5.3 常见方法  \n",
    "- dic.clear( )，清除字典中所有的键值对\n",
    "- dic.pop(key)，删除字典键`key`所对应的键值对，返回被删除值\n",
    "\n",
    "1.5.4 如何遍历字典？5种方法\n",
    "- for key in dic，遍历字典所有键\n",
    "- for key in dic.keys( ) ，效果同上\n",
    "- for val in dic.values( )，遍历字典所有值\n",
    "- for i in dic.items( )，遍历字典所有键值对，.items( )方法返回内容为一个元组\n",
    "- for key,val in dic.items( )，效果同上"
   ]
  },
  {
   "attachments": {},
   "cell_type": "markdown",
   "metadata": {},
   "source": [
    "**1.6 集合**  \n",
    "\n",
    "集合是一个无序、不重复的序列，集合中所有的元素放在 `{ }` 中间，并用逗号分开  \n",
    "用大括号 `{ }` 或者用 `set( )` 函数创建集合，创建一个空集必须用 `set( )` ，因为 `{ }` 用于创建空字典  \n",
    "列表中的元素允许重复，集合中的元素不允许重复  \n",
    "列表有序可索引，集合无序不可索引"
   ]
  },
  {
   "cell_type": "code",
   "execution_count": 11,
   "metadata": {},
   "outputs": [
    {
     "name": "stdout",
     "output_type": "stream",
     "text": [
      "{1, 2, 3}\n"
     ]
    }
   ],
   "source": [
    "set_161 = {1,1,2,3}\n",
    "print(set_161)"
   ]
  },
  {
   "attachments": {},
   "cell_type": "markdown",
   "metadata": {},
   "source": [
    "1.6.1 常见集合操作  \n",
    "- `set1|set2` 求并集\n",
    "- `set1-set2` 求差集\n",
    "- `x in set` 返回布尔值判断x是否在集合中\n",
    "\n",
    "1.6.2 常见函数  \n",
    "- len(set)，获取集合长度\n",
    "- max/min(set)，求集合中元素的最大/小值\n",
    "\n",
    "1.6.3 常见方法  \n",
    "- set.add(i)，向集合中增加元素i\n",
    "- set.remove(i)，将i从集合中删除\n",
    "- set.clear( )，清空集合\n",
    "- set1.union(set2)，返回集合set1和集合set2的并集\n",
    "- set1.intersection(set2)，返回集合set1和集合set2的交集\n",
    "- set1.issubset(set2)，判断set1是否为set2的子集"
   ]
  },
  {
   "attachments": {},
   "cell_type": "markdown",
   "metadata": {},
   "source": [
    "#### 2.循环控制\n",
    "**2.1 while循环**  \n",
    "\n",
    "![](https://img.mukewang.com/wiki/5e6cfbe9098fea7c07000456.jpg \"while 循环结构图\")\n",
    "\n",
    "<style>\n",
    "img {\n",
    "\twidth: 300px !important;\n",
    "\theight: 200px !important;\n",
    "}\n",
    "</style>"
   ]
  },
  {
   "cell_type": "code",
   "execution_count": 12,
   "metadata": {},
   "outputs": [
    {
     "name": "stdout",
     "output_type": "stream",
     "text": [
      "1\n",
      "2\n",
      "3\n",
      "END\n"
     ]
    }
   ],
   "source": [
    "n_211 = 1\n",
    "while n_211 <= 3:\n",
    "    print(n_211)\n",
    "    n_211 = n_211 + 1\n",
    "print('END')"
   ]
  },
  {
   "attachments": {},
   "cell_type": "markdown",
   "metadata": {},
   "source": [
    "**2.2 for循环**  \n",
    "\n",
    "可用于遍历列表，元组，集合以及`range`对象  \n",
    "- `range (number)` 表示区间 [0, number) 内的整数序列\n",
    "- `range (start, end)` 表示区间 [start, end) 内的整数序列  \n",
    "\n",
    "**2.3 break语句**  \n",
    "\n",
    "用于提前结束循环，跳出循环部分的代码模块  \n",
    "\n",
    "**2.4 continue语句**  \n",
    "\n",
    "用于跳过循环块中的剩余语句，继续后续的循环块  "
   ]
  },
  {
   "attachments": {},
   "cell_type": "markdown",
   "metadata": {},
   "source": [
    "#### 3.推导式\n",
    "**3.1 列表推导**  \n",
    "\n",
    "3.1.1 定义  \n",
    "\n",
    "列表推导式是一种创建列表的简洁语法，基本语法定义为：  \n",
    "`[expression for item iteratable]`  \n",
    "\n",
    "以上代码代表：  \n",
    "```\n",
    "list = []\n",
    "for item iteratable:\n",
    "    list.append(expression)\n",
    "```\n",
    "3.1.2 条件语句  \n",
    "\n",
    "在 for 循环之后添加 if 语句用于选择元素，语法定义为：\n",
    "`[expression for item iteratable if condition]`  \n",
    "\n",
    "以上代码代表：  \n",
    "```\n",
    "list = []\n",
    "for item iteratable:\n",
    "    if condition:\n",
    "        list.append(expression)\n",
    "```\n",
    "\n",
    "3.1.3 for循环嵌套  \n",
    "列表推导中允许 for 循环嵌套，它的语法定义如下：\n",
    "`[expression for x in X for y in Y]`  \n",
    "\n",
    "以上代码代表：\n",
    "```\n",
    "list = []\n",
    "for x in X:\n",
    "    for y in Y:\n",
    "        list.append(expression)\n",
    "\n",
    "```\n",
    "\n",
    "\n",
    "\n"
   ]
  },
  {
   "cell_type": "code",
   "execution_count": 13,
   "metadata": {},
   "outputs": [
    {
     "data": {
      "text/plain": [
       "[[0, 0, 0], [0, 0, 0]]"
      ]
     },
     "execution_count": 13,
     "metadata": {},
     "output_type": "execute_result"
    }
   ],
   "source": [
    "M_313 = 2\n",
    "N_313 = 3\n",
    "matrix_313 = [[0 for col in range(N_313)] for row in range(M_313)]\n",
    "matrix_313"
   ]
  },
  {
   "attachments": {},
   "cell_type": "markdown",
   "metadata": {},
   "source": [
    "**3.2 集合推导**  \n",
    "\n",
    "3.2.1 定义  \n",
    "\n",
    "集合推导式是一种创建集合的简洁语法，基本语法定义为：  \n",
    "`{expression for item iteratable}`  \n",
    "\n",
    "可以认为它使用如下代码创建了一个集合：\n",
    "```\n",
    "s = set()\n",
    "for item iteratable:\n",
    "    s.add(expression)\n",
    "```\n",
    "3.2.2 条件语句 \n",
    "\n",
    "与列表推导类似，集合推导也支持 if 语句进行选择，语法如下：\n",
    "`{expression for item iteratable if condition}`\n",
    "\n",
    "可以认为它使用如下代码创建了一个集合：\n",
    "```\n",
    "s = set()\n",
    "for item iteratable:\n",
    "    if condition:\n",
    "        s.add(expression)\n",
    "```"
   ]
  },
  {
   "attachments": {},
   "cell_type": "markdown",
   "metadata": {},
   "source": [
    "**3.3 字典推导**  \n",
    "\n",
    "3.3.1 定义  \n",
    "\n",
    "字典推导式是一种创建字典的简洁语法，基本语法定义为：  \n",
    "`{key:value for item iteratable}`  \n",
    "\n",
    "可以认为它使用如下代码创建了一个字典：\n",
    "```\n",
    "dict = {}\n",
    "for item iteratable:\n",
    "    dict[key] = value\n",
    "```\n",
    "3.3.2 条件语句 \n",
    "\n",
    "与列表推导类似，字典推导也支持 if 语句进行选择，语法如下：\n",
    "`{{key:value for item iteratable if condition}`\n",
    "\n",
    "可以认为它使用如下代码创建了一个字典：\n",
    "```\n",
    "dict = {}\n",
    "for item iteratable:\n",
    "    if condition:\n",
    "        dict[key] = value\n",
    "```"
   ]
  },
  {
   "attachments": {},
   "cell_type": "markdown",
   "metadata": {},
   "source": [
    "#### 4.函数\n",
    "**4.1 函数的定义**  \n",
    "\n",
    "函数是可重复使用的，用来实现单一功能的代码段，可消除代码的重复性。函数定义的语法如下：  \n",
    "```\n",
    "def func_name(par_list):\n",
    "    func_body\n",
    "```\n",
    "Python 提供了 return 语句用于从函数中返回，当执行到 return 时，程序返回到调用函数的地方  \n",
    "return 语句有两个常见的用途：  \n",
    "- 提前退出函数\n",
    "- 向函数的调用者返回值"
   ]
  },
  {
   "cell_type": "code",
   "execution_count": 14,
   "metadata": {},
   "outputs": [
    {
     "name": "stdout",
     "output_type": "stream",
     "text": [
      "We only process old man\n",
      "male\n",
      "54\n"
     ]
    }
   ],
   "source": [
    "#提前退出函数\n",
    "def check_4(gender, age):\n",
    "    if gender == 'female':\n",
    "       return\n",
    "    if age < 50:\n",
    "       return\n",
    "\n",
    "    print('We only process old man')\n",
    "    print(gender)\n",
    "    print(age)\n",
    "\n",
    "check_4('male',54)"
   ]
  },
  {
   "cell_type": "code",
   "execution_count": 15,
   "metadata": {},
   "outputs": [
    {
     "name": "stdout",
     "output_type": "stream",
     "text": [
      "5050\n"
     ]
    }
   ],
   "source": [
    "#返回值\n",
    "def compute_41(n):\n",
    "    sum = 0\n",
    "    i = 1\n",
    "    while i <= n:\n",
    "        sum += i\n",
    "        i += 1\n",
    "    return sum\n",
    "\n",
    "sum = compute_41(100)    \n",
    "print(sum)"
   ]
  },
  {
   "attachments": {},
   "cell_type": "markdown",
   "metadata": {},
   "source": [
    "**4.2 函数的参数**  \n",
    "\n",
    "4.2.1 位置参数  \n",
    "\n",
    "根据函数定义的参数位置来传递参数，要求传递的参数与函数定义的参数两者一一对应\n",
    "\n",
    "4.2.2 默认参数  \n",
    "\n",
    "在定义函数时，可以为参数提供一个默认值，如果传递参数时该位置缺省，则该参数按默认值传递；若不缺省则仍按输入参数传递"
   ]
  },
  {
   "cell_type": "code",
   "execution_count": 16,
   "metadata": {},
   "outputs": [
    {
     "name": "stdout",
     "output_type": "stream",
     "text": [
      "jerry\n",
      "12\n",
      "nanjing\n"
     ]
    }
   ],
   "source": [
    "def add_student_42(name, age, city = 'nanjing'):\n",
    "    print(name)\n",
    "    print(age)\n",
    "    print(city)\n",
    "\n",
    "add_student_42('jerry', 12)"
   ]
  },
  {
   "attachments": {},
   "cell_type": "markdown",
   "metadata": {},
   "source": [
    "4.2.3 可变参数  \n",
    "\n",
    "在函数定义中，可以令函数允许接受任意数量参数，在参数前加上符号 * 表示可以接受可变数量的参数  \n",
    "```\n",
    "def func_name(*args):\n",
    "    func_body\n",
    "```\n",
    "其中，`args`的类型是元组  \n",
    "\n",
    "4.2.4 关键字参数  \n",
    "Python允许调用函数时，以 “参数名 = 参数值” 的形式传递参数  \n",
    "在参数前加上符号 ** 参数表示函数可以接收关键字参数  \n",
    "```\n",
    "def func_name(**kw_args):\n",
    "    func_body\n",
    "```\n",
    "其中，`kw_args`的类型是字典  \n"
   ]
  },
  {
   "cell_type": "code",
   "execution_count": 17,
   "metadata": {},
   "outputs": [
    {
     "name": "stdout",
     "output_type": "stream",
     "text": [
      "ZhangSan\n",
      "LiSi\n"
     ]
    }
   ],
   "source": [
    "def create_full_name_42(**kw_args):\n",
    "    if 'full_name' in kw_args:\n",
    "        full_name = kw_args['full_name']\n",
    "        return full_name\n",
    "\n",
    "    if 'first_name' in kw_args:\n",
    "        first_name = kw_args['first_name']\n",
    "        last_name = kw_args['last_name']\n",
    "        full_name = first_name + last_name\n",
    "        return full_name\n",
    "\n",
    "print(create_full_name_42(full_name = 'ZhangSan'))\n",
    "print(create_full_name_42(first_name = 'Li', last_name = 'Si'))"
   ]
  },
  {
   "attachments": {},
   "cell_type": "markdown",
   "metadata": {},
   "source": [
    "**4.3 匿名函数lambda**  \n",
    "\n",
    "4.3.1 lambda 表达式的定义  \n",
    "\n",
    "在传入函数时，有些时候，不需要显式地定义函数，直接传入匿名函数更方便，表达式的语法如下：\n",
    "```\n",
    "lambda args: expression\n",
    "```"
   ]
  },
  {
   "cell_type": "code",
   "execution_count": 18,
   "metadata": {},
   "outputs": [
    {
     "name": "stdout",
     "output_type": "stream",
     "text": [
      "1\n",
      "2\n",
      "3\n",
      "-1\n",
      "-2\n",
      "-3\n"
     ]
    }
   ],
   "source": [
    "list_43 = [1, -1, 2, -2, 3, -3]\n",
    "\n",
    "def select(list, select_function):\n",
    "    for i in list:\n",
    "        if select_function(i):\n",
    "            print(i)\n",
    "\n",
    "select(list_43, lambda x: x > 0)\n",
    "select(list_43, lambda x: x < 0)\n"
   ]
  },
  {
   "attachments": {},
   "cell_type": "markdown",
   "metadata": {},
   "source": [
    "4.3.2 map函数  \n",
    "\n",
    "`map(function, list)`函数接收两个参数，function 是一个函数，list 是一个可以被遍历的序列  \n",
    "map 将传入的函数依次作用到序列的每个元素，并把结果作为新的序列返回  \n",
    "\n",
    "![](https://img.mukewang.com/wiki/5fcee1a509d2c9a607000460.jpg \"map原理示意图\")\n",
    "<style>\n",
    "img {\n",
    "\twidth: 300px !important;\n",
    "\theight: 200px !important;\n",
    "}\n",
    "</style>\n"
   ]
  },
  {
   "cell_type": "code",
   "execution_count": 19,
   "metadata": {},
   "outputs": [
    {
     "name": "stdout",
     "output_type": "stream",
     "text": [
      "<map object at 0x000001EB67B612A0>\n",
      "<class 'map'>\n",
      "2\n",
      "4\n",
      "6\n"
     ]
    }
   ],
   "source": [
    "list_432 = [1, 2, 3]\n",
    "list_4322 = map(lambda x: x * 2, list_432)\n",
    "print(list_4322)\n",
    "print(type(list_4322))\n",
    "for i in list_4322:\n",
    "    print(i)"
   ]
  },
  {
   "attachments": {},
   "cell_type": "markdown",
   "metadata": {},
   "source": [
    "#### 5.类  \n",
    "具体以一个实现通讯录功能的代码进行举例："
   ]
  },
  {
   "cell_type": "code",
   "execution_count": null,
   "metadata": {},
   "outputs": [],
   "source": [
    "class AddressBook:\n",
    "    def __init__(self):\n",
    "        self.persons = []\n",
    "\n",
    "    def create_person(self):\n",
    "        name = input('name: ')\n",
    "        address = input('address: ')\n",
    "        phone = input('phone: ')\n",
    "        person = {'name': name,  'address': address, 'phone': phone}\n",
    "        self.persons.append(person)\n",
    "\n",
    "    def list_person(self):\n",
    "        for person in self.persons:\n",
    "            print('%s,%s,%s' % (person['name'], person['address'], person['phone']))\n",
    "\n",
    "    def query_person(self):\n",
    "        name = input('name: ')\n",
    "        for person in self.persons:\n",
    "            if person['name'] == name:\n",
    "                print('%s,%s,%s' % (person['name'], person['address'], person['phone']))\n",
    "\n",
    "    def delete_person(self):\n",
    "        name = input('name: ')\n",
    "        for person in self.persons:\n",
    "            if person['name'] == name:\n",
    "                self.persons.remove(person)\n",
    "                break                    \n",
    "\n",
    "def get_choice():\n",
    "    print('1. create person')\n",
    "    print('2. list all persons')\n",
    "    print('3. query person')\n",
    "    print('4. delete person')\n",
    "    print('5. quit')\n",
    "    choice = input('Enter a number(1-5):')  \n",
    "    return choice\n",
    "\n",
    "def main():\n",
    "    addressBook = AddressBook()\n",
    "    while True:\n",
    "        choice = get_choice()\n",
    "\n",
    "        if choice == '1':\n",
    "            addressBook.create_person()\n",
    "        elif choice == '2':\n",
    "            addressBook.list_person()\n",
    "        elif choice == '3':\n",
    "            addressBook.query_person()\n",
    "        elif choice == '4':\n",
    "            addressBook.delete_person()\n",
    "        elif choice == '5':\n",
    "            break\n",
    "        else:\n",
    "            print('Invalid choice')  \n",
    "\n",
    "main()"
   ]
  },
  {
   "attachments": {},
   "cell_type": "markdown",
   "metadata": {},
   "source": [
    "#### 6.异常\n",
    "**6.1 异常类型**\n",
    "|异常名称|描述|\n",
    "|:--:|:--:|\n",
    "|ZeroDivisionError|除(或取模)零|\n",
    "|AssertionError|断言语句失败|\n",
    "|AttributeError|对象没有这个属性|\n",
    "|FileNotFoundError|文件不存在|\n",
    "|ModuleNotFoundError|模块不存在|\n",
    "|IndexError|序列中没有此索引|\n",
    "|KeyError|映射中没有这个键|\n",
    "|NameError|未声明/初始化对象|\n",
    "|SyntaxError|程序中存在语法错误|\n",
    "|IndentationError|缩进错误|  \n",
    "\n",
    "**6.2 异常处理**  \n",
    "\n",
    "当发生异常时需要捕获处理它，否则程序会中止执行  \n",
    "\n",
    "6.2.1 try...except语句  \n",
    "```\n",
    "try:\n",
    "\t可能发生异常的代码块\n",
    "except:\n",
    "\t处理异常的代码块\t\n",
    "```  \n",
    "发生异常后，程序跳转到处理异常的代码块  \n",
    "```\n",
    "try:\n",
    "\t可能发生异常的代码块\n",
    "except 异常类型1:\n",
    "\t处理异常的代码块\t\n",
    "except 异常类型2:\n",
    "\t处理异常的代码块\t\n",
    "...\t\t\n",
    "```\n",
    "使用多个 except 关键字处理多种指定类型的异常  \n",
    "```\n",
    "except 异常类型 as 异常对象:\n",
    "```  \n",
    "获取异常类型的同时，还可以获取异常对象  \n",
    "\n",
    "6.2.2 try...else语句  \n",
    "\n",
    "异常处理中 `else` 关键字用于指定没有异常时执行的代码块，语法如下：\n",
    "```\n",
    "try:\n",
    "\t可能发生异常的代码块\n",
    "except:\n",
    "\t处理异常的代码块\n",
    "else:\n",
    "\t没有异常时执行的代码块\n",
    "```\n",
    "当发生异常时，执行 except 对应的代码块  \n",
    "当没有发生异常时，执行 else 对应的代码块\n",
    "\n",
    "6.2.3 try...finally语句  \n",
    "\n",
    "在异常处理中，`finally` 关键字用于指定无论是否发生异常都需要执行的代码块，语法如下：\n",
    "```\n",
    "try:\n",
    "\t可能发生异常的代码块\n",
    "except:\n",
    "\t处理异常的代码块\n",
    "finally:\n",
    "\t无论是否发生异常都会执行的代码块\n",
    "```  \n",
    "\n",
    "6.2.4 raise语句用于制造异常  \n",
    "\n",
    "虽然我不知道这意义何在？\n"
   ]
  },
  {
   "attachments": {},
   "cell_type": "markdown",
   "metadata": {},
   "source": [
    "#### 7.Python中的内置模块（库）  \n",
    "\n",
    "由 Python 官方提供，包含在 Python 的安装包中，安装完 Python 后即可使用  \n",
    "\n",
    "|模块名称|功能描述|\n",
    "|:--:|:--:|\n",
    "|os|提供操作系统的 IO 访问等功能|\n",
    "|sys|提供获取命令行参数等功能|\n",
    "|math|提供各种常见的数学运算函数|\n",
    "|random|提供产生随机数的功能|\n",
    "|json|提供对 json 文件的解析功能|\n",
    "|datetime|提供日期、时间的相关功能|  \n",
    "\n",
    "from ... import *导入所有函数，与import ...不同之处在于后续调用不再需要库名  \n",
    "\n",
    "7.1 os模块  \n",
    "\n",
    "7.1.1 访问文件  \n",
    "- os.open(path, flags)，返回一个整数表示被打开的文件，该整数缩写为fd，其中参数flags有以下取值：  \n",
    "  - os.O_RDONLY，以只读方式打开\n",
    "  - os.O_WRONLY，以只写方式打开\n",
    "  - os.O_RDWR，以可读可写方式打开\n",
    "  - os.O_CREAT，创建并打开一个新文件  \n",
    "- os.read(fd, count)，参数 fd为使用 open 打开的文件描述，参数 count，至多读取 count 个字节，返回读取的 binary，binary 中至多包含 count 个字节  \n",
    "- os.write(fd, binary)，参数 binary，将 binary 写入到文件中，返回实际写入的字节个数  \n",
    "- os.close(fd) 的功能是关闭文件描述符，使用 open 打开文件后，需要使用 close 关闭  \n",
    "\n",
    "7.1.2 访问目录  \n",
    "- os.getcwd()，获取当前工作目录\n",
    "- os.chdir(path)，切换当前工作目录到path\n",
    "- os.listdir(path)，列出指定目录下的文件名\n",
    "- os.mkdir(path)，创建目录\n",
    "\n",
    "7.1.3 路径名  \n",
    "\n",
    "路径名由两部分构成：目录名和文件名  \n",
    "- os.path.basename(path)，获取路径名中的文件名\n",
    "- os.path.dirname(path)，获取路径名中的目录名\n",
    "- os.sep，导出变量，相当于 `\\` \n",
    "- os.path.join(*args)，接受可变数量的参数，将所有的输入参数使用路径分隔符连接，形成一个新的路径名\n",
    "- os.path.exists(path)，检查文件是否存在，返回布尔值\n",
    "\n",
    "7.1.4 文件属性  \n",
    "\n",
    "- os.path.getsize(path)，指定路径的文件的大小\n",
    "- os.path.isfile(path)，判断文件是否为文本文件或者二进制数据文件\n",
    "- os.path.isdir(path)，判断文件是否为目录文件  \n",
    "\n",
    "7.2 sys模块  \n",
    "\n"
   ]
  },
  {
   "cell_type": "code",
   "execution_count": null,
   "metadata": {},
   "outputs": [],
   "source": [
    "#显示进度的小程序\n",
    "import sys\n",
    "import time\n",
    "\n",
    "for rate in range(100):\n",
    "    text = 'Downloading %d%%' % rate\n",
    "    sys.stdout.write(text)\n",
    "    sys.stdout.write('\\r')\n",
    "    time.sleep(0.05)    "
   ]
  },
  {
   "attachments": {},
   "cell_type": "markdown",
   "metadata": {},
   "source": [
    "7.3 math模块  \n",
    "\n",
    "|函数|功能描述|\n",
    "|:--:|:--:|\n",
    "|.floor(n)|对浮点数 n 向小取整|\n",
    "|.ceil(n)|对浮点数 n 向大取整|\n",
    "|.pow(n, m)|指数运算，n 是底数，m 是指数|\n",
    "|.fabs(n)|计算 n 的绝对值|\n",
    "|.sqrt(n)|计算 n 的平方根|\n",
    "|.modf(n)|将浮点数 n 拆分为小数和整数，返回一个元组|\n",
    "|.fsum(list)|计算列表中所有元素的累加和|\n",
    "|.copysign(a, b)|将参数 b 的正负符号复制给第一个数|\n",
    "|.pi|圆周率|\n",
    "|.e|自然对数常量|  \n",
    "\n",
    "7.4 random模块  \n",
    "\n",
    "random 库是用于生成随机数的 Python 标准库，提供函数如下：\n",
    "\n",
    "|函数|功能描述|\n",
    "|:--:|:--:|\n",
    "|.random()|生成一个 [0.0, 1.0) 之间的随机小数|\n",
    "|.seed(seed)|初始化随机数种子，当种子相同时，产生的随机数序列是相同的|\n",
    "|.randint(a, b)|生成一个 [a, b] 之间的随机整数|\n",
    "|.uniform(a, b)|生成一个 [a, b] 之间的随机小数|\n",
    "|.choice(seq)|从序列 seq 中随机选择一个元素|\n",
    "|.shuffle(seq)|将序列 seq 中元素随机排列, 返回打乱后的序列|  \n",
    "\n",
    "7.5 JSON模块  \n",
    "\n",
    "JSON (JavaScript Object Notation) 是一种轻量级的数据交换格式，Python 标准库的 json 模块提供了对 json 的支持：\n",
    "- 把字符串转换成 JSON 对象\n",
    "- 把 JSON 对象换成字符串\n",
    "\n",
    "|函数|功能描述|\n",
    "|:--:|:--:|\n",
    "|.dumps(obj)|将 JSON 对象obj转换成字符串|\n",
    "|.loads(obj) |将字符串obj转换成 JSON 对象|\n",
    "|.dump(obj,file)|将 JSON 对象转换成字符串，并写入到文件中|\n",
    "|.load(file)|读取文件中的字符串，转换成 JSON 对象|  \n",
    "\n",
    "7.6 datetime模块  \n",
    "\n",
    "- datetime.date类：以年月日表示日历中的日期  \n",
    "  - d.year返回日期对象的年份\n",
    "  - d.month 返回日期对象的月份\n",
    "  - d.day 返回日期对象的日\n",
    "  - d.weekday() 返回一星期中的第几天, 星期一是 0\n",
    "  - d.isoweekday() 返回一星期中的第几天, 星期一是 1\n",
    "  - d.isoformat() 以格式 YYYY-MM-DD 返回日期的字符串形式\n",
    "  - d.isocalendar() 返回一个元组(年份,第几周,周几)\n",
    "  - d.ctime() 返回一个表示日期的字符串\n",
    "  - d.strftime(\"%Y-%m-%d\") 返回指定格式的日期字符串\n",
    "  - d.replace() 替换年份、月份、日期生成一个新日期\n",
    "- datetime.time类：以小时、分钟和秒表示一天中的时间\n",
    "  - t = time(h, m, s, ms)构造 h 时 m 分 s 秒 ms 微秒\n",
    "  - t.hour 返回小时\n",
    "  - t.minute 返回分钟\n",
    "  - t.second 返回秒\n",
    "  - t.microsecond 返回微秒\n",
    "  - t.isoformat()返回 ISO 8601 格式的时间字符串\n",
    "  - t.strftime(\"%H:%M:%S:%f\") 返回指定格式的时间格式\n",
    "  - t.replace() 替换小时、分钟、秒生成一个新时间\n",
    "- datetime.datetime类：年、月、日、小时、分钟和秒表示日期和时间，包含 date 对象和 time 对象的所有信息\n",
    "  - datetime.combine(d, t) 将日期对象 d 和时间对象 t 组合形成一个日期时间对象 dt\n",
    "  - t.isoformat() 返回 ISO 8601 格式的时间字符串\n",
    "  - t.strftime(\"%Y-%m-%d %H:%M:%S:%f\") 返回指定格式的时间格式\n",
    "- datetime.timedelta类：表示一个时间段，即两个日期 (date) 或日期时间 (datetime) 之间的差，接受命名参数：weeks、days、hours、minutes、seconds、milliseconds、microseconds\n",
    "  - delta = timedelta(days=3,hours =5,)\n",
    "  - dt或d加减delta即可"
   ]
  },
  {
   "attachments": {},
   "cell_type": "markdown",
   "metadata": {},
   "source": [
    "#### 8.Python中的内置函数  \n",
    "**8.1 系统帮助类**  \n",
    "- dir(object) 用于列出对象 object 中的属性\n",
    "- help(max) 获取内置函数 max 的帮助\n",
    "- help(sys.exit) 获取模块 sys 的函数 exit 的帮助\n",
    "\n",
    "**8.2 文件IO**  \n",
    "- input() 用于读取用户输入的一行文本 \n",
    "- input('Input a number: ') 首先打印提示符 'Input a number: '，然后再读取用户输入\n",
    "- print() 打印文本到屏幕，print() 输出会加上换行，如果不需要换行，可以加上参数 end =''\n",
    "- open(path) 打开指定路径 path 的文件， 调用file 对象的 readline() 方法返回一行\n",
    "\n",
    "**8.3 类型转换**  \n",
    "- int(string) 将字符串 string 转换为整数\n",
    "- float(string) 将字符串 string 转换为浮点数\n",
    "- str(number) 将数值转换为字符串\n",
    "\n",
    "**8.4 数学运算**  \n",
    "- abs(number) 计算 number 的绝对值\n",
    "- round(number) 进行四舍五入运算\n",
    "- min() 计算输入参数的最小值\n",
    "- max() 计算输入参数的最大值\n",
    "- pow(n, m) 计算 n 的 m 次方运算\n",
    "\n",
    "**8.5 创建复合数据类型**  \n",
    "- 通过 list(iterable) 将可迭代对象 iterable 转换为 list\n",
    "- tuple(iterable) 将可迭代对象 iterable 转换为 tuple\n",
    "- set(iterable) 将可迭代对象 iterable 转换为 set\n",
    "  \n",
    "**8.6 对序列的操作**  \n",
    "- len(sequence)计算长度\n",
    "- sorted(sequence)对序列排序\n",
    "- reversed(sequence)返回一个倒置的迭代器，用tuple或list即可转化为序列\n",
    "  \n",
    "**8.7 面向对象相关**\n",
    "- isinstance(object, type) 判断 object 是否是类 type 的实例  \n",
    "- issubclass(a, b) 判断类 a 是否是类 b 的子类"
   ]
  },
  {
   "attachments": {},
   "cell_type": "markdown",
   "metadata": {},
   "source": [
    "### 二. Numpy库的应用\n",
    "![](https://img.mukewang.com/wiki/5ecddcdd09c5a19615121512.jpg)\n",
    "<style>\n",
    "img {\n",
    "\twidth: 300px !important;\n",
    "\theight: 300px !important;\n",
    "}\n",
    "</style>\n",
    "#### 1.Numpy的ndarray对象\n",
    "ndarray，即 N 维数组对象，是 Numpy 最核心的组成部分。  \n",
    "\n",
    "**1.1 使用 .array( ) 创建数组**  \n",
    "\n",
    "创建数组对象最简单的方法是利用 array 函数，该函数的输入为序列，输出为一个含有传入数据的 Numpy 数组\n",
    "```\n",
    "np.array(object, dtype=None, copy=True, ndmin=0)\n",
    "```\n",
    "|参数|功能描述|\n",
    "|:--:|:--:|\n",
    "|object|array的主要参数，可以是数组、有序序列，或者是嵌套的序列|\n",
    "|dtype|数据类型，用来指定生成的ndarray数据结构的元素类型|\n",
    "|copy|对象是否被复制，默认为True|\n",
    "|ndmin|指定返回数组的最小维数|  \n"
   ]
  },
  {
   "cell_type": "code",
   "execution_count": 29,
   "metadata": {},
   "outputs": [
    {
     "name": "stdout",
     "output_type": "stream",
     "text": [
      "[[ 1  0  3]\n",
      " [ 4 -5  6]\n",
      " [ 7  8  9]]\n",
      "int32\n",
      "[[ True False  True]\n",
      " [ True  True  True]\n",
      " [ True  True  True]]\n"
     ]
    }
   ],
   "source": [
    "data_211 = [[1, 0, 3.2], [4, -5.1, 6], [7.3, 8, 9]]\n",
    "arr_211 = np.array(data_211, dtype = 'int32',copy = True)\n",
    "print(arr_211)\n",
    "print(arr_211.dtype)\n",
    "print(arr_211.astype(bool))"
   ]
  },
  {
   "attachments": {},
   "cell_type": "markdown",
   "metadata": {},
   "source": [
    "**1.2 创建特殊数组**  \n",
    "\n",
    "- np.zeros(n)，创建一个n的向量\n",
    "- np.ones((n,n))，接收一个表示数组大小的元组 tuple 作为输入创建一个n*n的方阵，zeros同理\n",
    "- np.empty((3,2,3))，创建一个指定大小的、没有具体值的数组，虑到输出全 0 数组是不安全的想法，因此很多情况下，它返回的是一些极小且无规律的垃圾值\n",
    "- np.identity(n)，创建一个n*n的单位阵\n",
    "- np.eye(N, M=None, k=0, dtype=<type ‘float’>)，k=0时，创建一个大小为 N×M，主对角线为 1 的矩阵，k 表示为 1 的对角线的偏移量，当 k 大于0表示右偏"
   ]
  },
  {
   "cell_type": "code",
   "execution_count": null,
   "metadata": {},
   "outputs": [
    {
     "name": "stdout",
     "output_type": "stream",
     "text": [
      "[[0. 1. 0. 0.]\n",
      " [0. 0. 1. 0.]\n",
      " [0. 0. 0. 1.]]\n",
      "[[1. 0. 0. 0.]\n",
      " [0. 1. 0. 0.]\n",
      " [0. 0. 1. 0.]]\n"
     ]
    }
   ],
   "source": [
    "print(np.eye(N=3, M=4, k=1))\n",
    "print(np.eye(N=3, M=4))"
   ]
  },
  {
   "attachments": {},
   "cell_type": "markdown",
   "metadata": {},
   "source": [
    "- 对等间隔序列的数组创建\n",
    "  - numpy.arange(start, stop, step=1, dtype=None)，创建一个起始值为start，终止值（同range为开）为stop，步长为step的一维向量，结合reshape方法可调整为矩阵\n",
    "  - numpy.linspace(start, stop, num=50, endpoint=True, retstep=False, dtype=None)，创建一个起始值为start，终止值为stop，样本数量为num的等步长一维向量\n",
    "- 对等比序列的数组创建\n",
    "  - numpy.logspace(start, stop, num=50, endpoint=True, base=10.0, dtype=None)，创建一个起始值的指数为start，终止值的指数为stop，base为底的等比数列\n",
    "  - numpy.geomspace(start, stop, num=50, endpoint=True, dtype=None)，创建一个起始值为start，终止值为stop，样本数量为num的等比数列"
   ]
  },
  {
   "attachments": {},
   "cell_type": "markdown",
   "metadata": {},
   "source": [
    "#### 2.Numpy数组的属性与方法  \n",
    "\n",
    "**2.1 数组属性的查看**  \n",
    "\n",
    "- arr.ndim，查看数组的维数\n",
    "- arr.shape，查看数组的大小(m*n)\n",
    "- arr.size，查看元素个数，数值上等于m*n\n",
    "  \n",
    "**2.2 数组的修改**  \n",
    "\n",
    "- reshape(arr,newshape,order)，newshape为整数或整数数组，order：‘C’ – 按行，‘F’ – 按列，‘A’ – 原顺序\n",
    "- .flatten返回一份数组拷贝，并折叠为一维的数组，对拷贝所做的修改不会影响原始数组\n",
    "- .ravel() 展平数组元素，顺序通常是\"C风格\"，返回的是数组视图（view），修改会影响原始数组\n",
    "- arr.T置换矩阵\n",
    "- arr.tolist()将矩阵转化为列表"
   ]
  },
  {
   "attachments": {},
   "cell_type": "markdown",
   "metadata": {},
   "source": [
    "#### 3.Numpy随机数  \n",
    "numpy.random 模块对 Python 内置的 random 进行了补充，增加了一些用于高效生成符合多种概率分布的样本值的函数。\n",
    "\n",
    "**3.1 创建符合均匀分布的随机数组**  \n",
    "|方法|功能描述|\n",
    "|:--:|:--:|\n",
    "|.rand(d0,..., dn)|创建一个服从 “0~1” 均匀分布的随机浮点数（组），d为生成数组的维数，若不指定则默认返回一个浮点数|\n",
    "|.uniform(low=0.0, high=1.0, size=None)|创建一个在指定区间内符合均匀分布的随机数（组），区间为[low,high)，size为元组代表维数|\n",
    "|.randint(low, high=None, size=None, dtype='l')|同上，只是生成的是符合均匀分布的随机整数（组）|  \n",
    "\n",
    "**3.2 创建符合正态分布的随机数组**  \n",
    "|方法|功能描述|\n",
    "|:--:|:--:|\n",
    "|.randn(d0,..., dn)|创建一个指定维度的、符合标准正态分布（以0为均值、1为标准差）的浮点数（数组）|\n",
    "|.normal(loc=0.0, scale=1.0, size=None)|创建一个在指定区间内符合正态分布的随机数（组），均值为loc，标准差为scale，size为元组代表维数|\n"
   ]
  },
  {
   "attachments": {},
   "cell_type": "markdown",
   "metadata": {},
   "source": [
    "#### 4.Numpy的索引与切片  \n",
    "元素的访问与列表相同，一维切片为`[start:stop:step]`  \n",
    "\n",
    "对于多维数组的切片，`[start1:stop1,start2:stop2]`截取axis=0 方向上start1到stop1前一行，axis=1方向上start2到stop2前一列的，`:`前后缺省代表选中全轴  \n",
    "\n",
    "`[[r1,r2,r3...]]`截取r1、r2、r3等行的切片  \n",
    "\n",
    "`[[r1,r2,r3...],[c1,c2,c3,...]]`截取(r1,c1),(r2,c2)...等坐标的元素，返回一维向量，若要截矩形先截行再截列"
   ]
  },
  {
   "attachments": {},
   "cell_type": "markdown",
   "metadata": {},
   "source": [
    "#### 5.遍历数组(但仍要记得能避免循环就不要循环，使用向量化操作，这才是Numpy的精髓)\n",
    "Numpy 提供了一个迭代器对象 `numpy.nditer(arr,order = '?',flags = [])` \n",
    "\n",
    "对于order，`'C'`代表以行读取，`'F'`代表以列读取\n",
    "\n",
    "对于flags，`'c_index'`代表跟踪 C 顺序的索引，`'f_index'`代表跟踪 F 顺序的索引，`'multi-index'`代表类似坐标的多维索引，`'external_loop'`返回一维数组而并非单个元素"
   ]
  },
  {
   "cell_type": "code",
   "execution_count": 58,
   "metadata": {},
   "outputs": [
    {
     "name": "stdout",
     "output_type": "stream",
     "text": [
      "[[0 1 2]\n",
      " [3 4 5]]\n",
      "0 1 2 3 4 5 \n",
      "0 3 1 4 2 5 \n",
      "value: 0 index:<0>\n",
      "value: 1 index:<2>\n",
      "value: 2 index:<4>\n",
      "value: 3 index:<1>\n",
      "value: 4 index:<3>\n",
      "value: 5 index:<5>\n",
      "[0 1 2 3 4 5]\n"
     ]
    }
   ],
   "source": [
    "arr_51 = np.arange(6).reshape(2,3)\n",
    "print(arr_51)\n",
    "for i in np.nditer(arr_51,order = 'C'):\n",
    "    print(i, end=\" \")\n",
    "print()\n",
    "for i in np.nditer(arr_51,order = 'F'):\n",
    "    print(i, end=\" \")\n",
    "print()\n",
    "\n",
    "mul_it = np.nditer(arr_51, flags=['f_index'])\n",
    "while not mul_it.finished:\n",
    "    print(\"value:\", mul_it[0], \"index:<{}>\".format(mul_it.index))\n",
    "    mul_it.iternext()\n",
    "\n",
    "mul_it = np.nditer(arr_51, flags=['external_loop'])\n",
    "while not mul_it.finished:\n",
    "    print(mul_it[0])\n",
    "    mul_it.iternext()"
   ]
  },
  {
   "attachments": {},
   "cell_type": "markdown",
   "metadata": {},
   "source": [
    "#### 6.数组的运算与广播\n",
    "**6.1 相同大小的数组运算**  \n",
    "\n",
    "如果两个数组的维度完全一致，那么运算过程是两个数组相应元素的逐个计算"
   ]
  },
  {
   "cell_type": "code",
   "execution_count": 3,
   "metadata": {},
   "outputs": [
    {
     "name": "stdout",
     "output_type": "stream",
     "text": [
      "[[ 5 10 15]\n",
      " [20 25 30]]\n"
     ]
    }
   ],
   "source": [
    "arr_611 = np.array([[1, 2, 3], [4, 5, 6]])\n",
    "arr_612 = np.array([[5, 5, 5], [5, 5, 5]])\n",
    "print(arr_611*arr_612)"
   ]
  },
  {
   "attachments": {},
   "cell_type": "markdown",
   "metadata": {},
   "source": [
    "**6.2 不同维度的数组运算**  \n",
    "\n",
    "不同维度的数组运算需要进行广播，将两个数组变为相同的形状再进行运算，广播规则如下：\n",
    "- 让所有输入数组都向其中形状最长的数组看齐，形状中不足的部分都通过在前面加 1 补齐\n",
    "- 输出数组的形状是输入数组形状的各个维度上的最大值\n",
    "- 如果输入数组的某个维度和输出数组的对应维度的长度相同或者其长度为 1 时，这个数组能够用来计算，否则出错\n",
    "- 当输入数组的某个维度的长度为 1 时，沿着此维度运算时都用此维度上的第一组值  "
   ]
  },
  {
   "attachments": {},
   "cell_type": "markdown",
   "metadata": {},
   "source": [
    "#### 7.Numpy中的函数\n",
    "**7.1 一元函数**  \n",
    "\n",
    "- Numpy 提供了标准的三角函数与反三角函数：np.sin(arr)、np.cos(arr)、np.tan(arr)、np.arcsin(arr)...，通过接受弧度值，返回对应的结果\n",
    "- 数值修约函数补充np.rint(arr)，用于四舍五入到最近的整数\n",
    "- 算术运算补充np.square(arr)计算各元素平方，exp、log等\n",
    "- 判断空值np.isnan(arr)，为空值返回True\n",
    "- 去重np.unique(arr)，返回去重后的一维数组\n",
    "\n",
    "**7.2 二元函数**  \n",
    "\n",
    "- 当对两个数组进行四则运算，可以通过运算函数完成，需要注意的是数组必须具有相同的形状或符合数组广播规则。\n",
    "|函数|功能描述|\n",
    "|:--:|:--:|\n",
    "|add(arr1,arr2)|加法运算|\n",
    "|subtract(arr1,arr2)|减法运算，从第一个数组中减去第二个数组|\n",
    "|multiply|数组元素相乘|\n",
    "|divide|除法运算|  \n",
    "- 求幂运算np.power(arr,x)或 np.power(arr1,arr2)，若为两同形状数组则对应元素分别求幂\n",
    "- 求余运算np.mod传参方式与求幂相同\n",
    "- 两元素间的比较运算：\n",
    "  - 返回一个最大\\小值组成的数组，maximum、fmax、minimum、fmin，f开头的可以忽略空值\n",
    "  - 返回布尔型数组的，greater、greater_equal、less、less_equal、equal、not_equal\n",
    "\n",
    "**7.3 数组统计函数**  \n",
    "\n",
    "|函数名称|功能描述|\n",
    "|:--:|:--:|\n",
    "|sum|对数组中的全部或沿着轴向的元素求和，在调用统计函数的时候，可以通过指定axis来明确聚合的方向|\n",
    "|mean、median|求数组的算术平均值、中位数，在调用统计函数的时候，可以通过指定axis来明确聚合的方向|\n",
    "|std、var|分别为标准差和方差，在调用统计函数的时候，可以通过指定axis来明确聚合的方向|\n",
    "|min、max|最小值和最大值，在调用统计函数的时候，可以通过指定axis来明确聚合的方向|\n",
    "|argmin、argmax|分别为最小和最大元素的索引，在调用统计函数的时候，可以通过指定axis来明确聚合的方向|\n",
    "|cumsum|所有元素的累计和，不指定方向，则会把数组展开为一维数组并进行累计运算|\n",
    "|cumprod|所有元素的累计积|\n",
    "|percentile(arr,q,axis)|计算数组的从小到大百分比分位数，q为指定百分数，即有q%的元素小于等于该值|"
   ]
  },
  {
   "attachments": {},
   "cell_type": "markdown",
   "metadata": {},
   "source": [
    "#### 8.Numpy中的视图与副本\n",
    "视图是指对数据的引用，通过该引用亦便可访问、操作原有数据，但原有数据不会产生拷贝。如果我们对视图进行修改，它会影响到原始数据，物理内存在同一位置。副本是一个数据的完整的拷贝，如果我们对副本进行修改，它不会影响到原始数据，物理内存不在同一位置。  \n",
    "\n",
    "**8.1 直接赋值**  \n",
    "\n",
    "对于已经产生的ndarray对象，将该对象再次赋值给其他变量不产生数组的副本，该过程中产生的变量，都指向同一块物理内存地址。对原ndarray对象的修改同样会体现在新赋值的数组中。"
   ]
  },
  {
   "cell_type": "code",
   "execution_count": 5,
   "metadata": {},
   "outputs": [
    {
     "name": "stdout",
     "output_type": "stream",
     "text": [
      "数组a： [ 0  1  2  3  4  5  6  7  8  9 10 11]\n",
      "数组a的id： 1803876123440\n",
      "数组b： [ 0  1  2  3  4  5  6  7  8  9 10 11]\n",
      "数组b的id： 1803876123440\n"
     ]
    }
   ],
   "source": [
    "arr_81 = np.arange(12)\n",
    "print(\"数组a：\", arr_81)\n",
    "print(\"数组a的id：\", id(arr_81))\n",
    "arr_82 = arr_81\n",
    "print(\"数组b：\", arr_82)\n",
    "print(\"数组b的id：\", id(arr_82))"
   ]
  },
  {
   "attachments": {},
   "cell_type": "markdown",
   "metadata": {},
   "source": [
    "**8.2 视图与拷贝**  \n",
    "- 视图：  \n",
    "ndarray.view() 方会创建一个新的数组对象，该方法创建的新数组的维数更改不会更改原始数据的维数。  \n",
    "对视图的元素进行修改，修改同样体现在原数组中；但对视图进行形状修改，不影响原数组的形状。  \n",
    "切片获得的是一小段视图，因此对切片元素的修改也会影响原数组，同时切片直接也会相互影响。\n",
    "- 拷贝：  \n",
    ".copy() 函数创建一个副本。 对副本数据进行修改，不会影响到原始数据，它们物理内存不在同一位置。"
   ]
  },
  {
   "cell_type": "code",
   "execution_count": 7,
   "metadata": {},
   "outputs": [
    {
     "name": "stdout",
     "output_type": "stream",
     "text": [
      "数组a： [[0 1]\n",
      " [2 3]\n",
      " [4 5]]\n",
      "数组a的id： 1803876125744\n",
      "视图b： [[0 1]\n",
      " [2 3]\n",
      " [4 5]]\n",
      "视图b的id： 1803844151760\n",
      "数组b： [[100   1]\n",
      " [  2   3]\n",
      " [  4   5]]\n",
      "数组a： [[100   1]\n",
      " [  2   3]\n",
      " [  4   5]]\n"
     ]
    }
   ],
   "source": [
    "arr_83 = np.arange(6).reshape(3,2)\n",
    "print(\"数组a：\", arr_83)\n",
    "print(\"数组a的id：\", id(arr_83))\n",
    "arr_84 = arr_83.view()\n",
    "print(\"视图b：\", arr_84)\n",
    "print(\"视图b的id：\", id(arr_84))\n",
    "arr_84[0,0] = 100\n",
    "print(\"数组b：\", arr_84)\n",
    "print(\"数组a：\", arr_83)"
   ]
  },
  {
   "attachments": {},
   "cell_type": "markdown",
   "metadata": {},
   "source": [
    "#### 9.数组的线性代数运算\n",
    "|函数名称|功能描述|\n",
    "|:--:|:--:|\n",
    "|dot()|对于两个一维数组，dot() 函数计算的是这两个数组对应下标元素的乘积和，也称之为內积；对于二维数组，计算的是两个数组的矩阵乘积。|\n",
    "|.vdot()|.vdot() 函数是求两个向量的点积，即对应位置的元素乘积求和。|\n",
    "|.inner() |返回一维数组的向量内积。对于更高的维度，它返回最后一个轴上的元素乘积之和|\n",
    "|.matmul()|返回两个数组的矩阵乘积。对于二维数组，其计算结果与dot一致|\n",
    "|.linalg.det()|计算输入矩阵的行列式|\n",
    "|.linalg.solve()|给出矩阵形式的线性方程的解|\n",
    "|.linalg.inv()|计算矩阵的乘法逆矩阵|"
   ]
  },
  {
   "attachments": {},
   "cell_type": "markdown",
   "metadata": {},
   "source": [
    "例：\n",
    "```\n",
    "x + y + z =10\n",
    "2x + y = 6\n",
    "3y -2z = 2\n",
    "```\n",
    "求解该方程组  \n",
    "将方程组转化为矩阵形式：Ax=b，则有："
   ]
  },
  {
   "cell_type": "code",
   "execution_count": 8,
   "metadata": {},
   "outputs": [
    {
     "data": {
      "text/plain": [
       "array([[1.],\n",
       "       [4.],\n",
       "       [5.]])"
      ]
     },
     "execution_count": 8,
     "metadata": {},
     "output_type": "execute_result"
    }
   ],
   "source": [
    "A_9 = np.array([[1, 1, 1], [2, 1, 0], [0, 3, -2]])\n",
    "b_9 = np.array([[10], [6], [2]])\n",
    "np.linalg.solve(A_9, b_9)"
   ]
  },
  {
   "attachments": {},
   "cell_type": "markdown",
   "metadata": {},
   "source": [
    "或者对于矩阵 A，假设逆矩阵为 F，则有：x=Fb"
   ]
  },
  {
   "cell_type": "code",
   "execution_count": 9,
   "metadata": {},
   "outputs": [
    {
     "name": "stdout",
     "output_type": "stream",
     "text": [
      "计算A的逆矩阵：\n",
      "A的逆矩阵F: [[-0.25   0.625 -0.125]\n",
      " [ 0.5   -0.25   0.25 ]\n",
      " [ 0.75  -0.375 -0.125]]\n",
      "方程组的解为： [[1.]\n",
      " [4.]\n",
      " [5.]]\n"
     ]
    }
   ],
   "source": [
    "print(\"计算A的逆矩阵：\")\n",
    "F_9 = np.linalg.inv(A_9)\n",
    "print(\"A的逆矩阵F:\", F_9)\n",
    "print(\"方程组的解为：\", np.matmul(F_9, b_9))"
   ]
  },
  {
   "attachments": {},
   "cell_type": "markdown",
   "metadata": {},
   "source": [
    "#### 10.数组的合并、拆分、堆叠、插入等\n",
    "**10.1 数组的合并与堆叠**  \n",
    "\n",
    "- numpy.concatenate((arr1,arr2,...),axis = 0) 函数用于沿指定轴连接两个或多个相同形状的数组，纵轴0横轴1\n",
    "- numpy.stack((arr1,arr2,...),axis = 0) 函数沿指定轴堆叠数组序列，生成一个高维的数组  \n",
    "\n",
    "**10.2 数组的分割**  \n",
    "\n",
    "- numpy.split(arr, indices_or_sections, axis=0) 将数组的副本沿指定轴划分为子数组，indices_or_sections为整数，表示要创建的相等大小的子数组的数量。如果是一维数组，则条目指示要创建新子数组的点；当 indices_or_sections 参数为整数列表时，表示按照以整数为位置索引进行分割；对于多维数组的情形，将内层的数组视为整体，仅考虑最外层的大小进行切割。  \n",
    "  \n",
    "**10.3 数组的追加与插入**  \n",
    "\n",
    "- numpy.append(arr, values, axis) 在输入数组末尾，追加一个尺寸匹配的数组，与列表中 append 的操作类似。但是输入数组的尺寸必须匹配，否则将生成 ValueError；当不指定axis时，append结果为一维数组\n",
    "- numpy.insert(arr, index, values, axis) 函数沿给定轴和给定索引在输入数组中插入值"
   ]
  },
  {
   "attachments": {},
   "cell_type": "markdown",
   "metadata": {},
   "source": [
    "### 三. Pandas库的应用\n",
    "![](https://img.mukewang.com/wiki/6013dec1093bc94707440744.jpg)\n",
    "<style>\n",
    "img {\n",
    "\twidth: 300px !important;\n",
    "\theight: 300px !important;\n",
    "}\n",
    "</style>\n",
    "#### 1.Pandas的数据结构\n",
    "Pandas 中有两种主要的数据结构：Series 和 DataFrame。  \n",
    "\n",
    "**1.1 一维数组 Series**  \n",
    "\n",
    "Series 是一种一维数组的对象，由一组数据和对应的数据标签（索引）所组成，也就是 index（索引） 和 values （值），表现形式为索引在左边，值在右边。  \n",
    "\n",
    "Series有以下常用属性：\n",
    "\n",
    "|属性|功能描述|\n",
    "|:--:|:--:|\n",
    "|index|获取 Series 的索引对象|\n",
    "|name|获取 Series 索引列的名字（df.index.name）或获取数据列的名字（df.name）|\n",
    "|axes|获取 Series 索引的数组表示形式|\n",
    "|values|获取 Series 的数组表示形式|\n",
    "|ndim|获取 Series 的数据维度(Series是1维数组)|\n",
    "|size|获取数据的个数|\n",
    "|dtype|获取 Series 的数据类型|"
   ]
  },
  {
   "cell_type": "code",
   "execution_count": 14,
   "metadata": {},
   "outputs": [
    {
     "name": "stdout",
     "output_type": "stream",
     "text": [
      "0        12\n",
      "1    welcom\n",
      "2        23\n",
      "3        to\n",
      "4        34\n",
      "5    pandas\n",
      "6        45\n",
      "dtype: object\n",
      "RangeIndex(start=0, stop=7, step=1)\n",
      "[12 'welcom' 23 'to' 34 'pandas' 45]\n",
      "None\n",
      "[RangeIndex(start=0, stop=7, step=1)]\n",
      "1\n",
      "7\n",
      "object\n"
     ]
    }
   ],
   "source": [
    "df_11=pd.Series([12,\"welcom\",23, \"to\",34, \"pandas\",45])\n",
    "print(df_11)\n",
    "print(df_11.index)\n",
    "print(df_11.values)\n",
    "print(df_11.name)\n",
    "print(df_11.axes)\n",
    "print(df_11.ndim)\n",
    "print(df_11.size)\n",
    "print(df_11.dtype)"
   ]
  },
  {
   "attachments": {},
   "cell_type": "markdown",
   "metadata": {},
   "source": [
    "Series有以下常用属性：  \n",
    "\n",
    "|方法名称|功能描述|\n",
    "|:--:|:--:|\n",
    "|Series()|创建一个 Series 数据结构的对象|\n",
    "|isnull()和notnull()|用于检测缺失数据|\n",
    "|argmin()和argmax()\t|返回对应最小/最大值的索引位置（而非索引值！）|\n",
    "|copy()|复制一个 Series，注意浅拷贝和深拷贝|\n",
    "|reindex([x,y,…])|按照新的索引顺序生成新的 Series 对象，缺失索引对应数值使用默认值 NaN|\n",
    "|drop()|丢弃指定索引的项|  \n",
    "\n",
    "其中copy()要注意深拷贝与浅拷贝的关系  \n",
    "- 浅拷贝：拷贝父对象，不会拷贝对象的内部的子对象，只复制对象本身，没有复制该对象所引用的对象；  \n",
    "- 深拷贝：完全拷贝了父对象及其子对象，新的组合对象与原对象没有任何关联。"
   ]
  },
  {
   "cell_type": "code",
   "execution_count": 20,
   "metadata": {},
   "outputs": [
    {
     "name": "stdout",
     "output_type": "stream",
     "text": [
      "0    12\n",
      "1    23\n",
      "2    34\n",
      "3    45\n",
      "dtype: int64\n",
      "a     12\n",
      "b    234\n",
      "c     34\n",
      "d     45\n",
      "dtype: int64\n",
      "a    12\n",
      "b    33\n",
      "c     1\n",
      "d    22\n",
      "dtype: int64\n"
     ]
    }
   ],
   "source": [
    "#Series()\n",
    "# 形式一：Series([x,y,...])\n",
    "df_12=pd.Series([12,23,34,45])\n",
    "print(df_12)\n",
    "\n",
    "# 形式二：Series([x,y,...], index=[param1,param1,...])\n",
    "df_12=pd.Series([12,234,34,45],index=[\"a\",\"b\",\"c\",\"d\"])\n",
    "print(df_12)\n",
    "\n",
    "# 形式三：Series({\"a\":x,\"b\":y,...})\n",
    "df_12=pd.Series({\"a\":12,\"b\":33,\"c\":1,\"d\":22})\n",
    "print(df_12)"
   ]
  },
  {
   "cell_type": "code",
   "execution_count": 28,
   "metadata": {},
   "outputs": [
    {
     "name": "stdout",
     "output_type": "stream",
     "text": [
      "a    False\n",
      "b    False\n",
      "c    False\n",
      "d    False\n",
      "dtype: bool a    True\n",
      "b    True\n",
      "c    True\n",
      "d    True\n",
      "dtype: bool\n",
      "2 1\n",
      "e     NaN\n",
      "d    22.0\n",
      "c     1.0\n",
      "b    33.0\n",
      "a    12.0\n",
      "f     NaN\n",
      "g     NaN\n",
      "dtype: float64\n"
     ]
    }
   ],
   "source": [
    "#isnull()和notnull()\n",
    "print(df_12.isnull(),df_12.notnull())\n",
    "#argmin()和argmax() \n",
    "print(df_12.argmin(),df_12.argmax())\n",
    "#reindex()\n",
    "print(df_12.reindex([\"e\",\"d\",\"c\",\"b\",\"a\",\"f\",\"g\"]))"
   ]
  },
  {
   "attachments": {},
   "cell_type": "markdown",
   "metadata": {},
   "source": [
    "**1.2 二维数据框 DataFrame**  \n",
    "\n",
    "DataFrame 是一个二维数据结构，可以想象成我们常用的 Excel。  \n",
    "\n",
    "Series有以下常用属性：  \n",
    "\n",
    "|属性|功能描述|\n",
    "|:--:|:--:|\n",
    "|values|返回 ndarray 类型的对象|\n",
    "|index|获取 DataFrame 行索引对象（可以通过 index.values 获取行索引值）|\n",
    "|columns|获取 DataFrame 列索引对象（可以通过 index.values 获取列索引值）|\n",
    "|axes|获取行及列索引的数组表示形式|\n",
    "|ndim|获取数据维度|\n",
    "|shape|获取数据框的尺寸大小，返回一个元组|\n",
    "|size|获取数据框内元素个数，返回一个数字|  \n",
    "\n",
    "Series有以下常用方法：  \n",
    "\n",
    "|方法名称|功能描述|\n",
    "|:--:|:--:|\n",
    "|DataFrame()|创建一个DataFrame数据结构的对象|\n",
    "|head()|用于查看数据集的前n行|\n",
    "|info()|快速查看数据的描述|\n",
    "|tail()|用于查看数据集的后n行|\n",
    "|T|转置函数|\n",
    "|sum()|求和函数,默认是对每列求和，传入 1 也就是 sum(1) ，是对每行进行求和|  "
   ]
  },
  {
   "cell_type": "code",
   "execution_count": 36,
   "metadata": {},
   "outputs": [
    {
     "name": "stdout",
     "output_type": "stream",
     "text": [
      "    A   B   C   D\n",
      "A   1   2   3   4\n",
      "B   5   6   7   8\n",
      "C   9  10  11  12\n",
      "D  13  14  15  16\n",
      "   A  B   C   D\n",
      "0  1  5   9  12\n",
      "1  2  6  10  13\n",
      "2  3  7  11  14\n",
      "3  4  8  12  15\n",
      "   A  B   C   D\n",
      "0  1  5   9  12\n",
      "1  2  6  10  13\n",
      "   A  B   C   D\n",
      "2  3  7  11  14\n",
      "3  4  8  12  15\n",
      "    0   1   2   3\n",
      "A   1   2   3   4\n",
      "B   5   6   7   8\n",
      "C   9  10  11  12\n",
      "D  12  13  14  15\n",
      "A    10\n",
      "B    26\n",
      "C    42\n",
      "D    54\n",
      "dtype: int64\n",
      "0    27\n",
      "1    31\n",
      "2    35\n",
      "3    39\n",
      "dtype: int64\n"
     ]
    }
   ],
   "source": [
    "# 1.通过传入数据，行索引，列索引进行创建\n",
    "df11=pd.DataFrame([[1,2,3,4],[5,6,7,8],[9,10,11,12],[13,14,15,16]],index=list('ABCD'),columns=list('ABCD'))\n",
    "print(df11)\n",
    "\n",
    "data1={'A':[1,2,3,4],\n",
    "        'B':[5,6,7,8],\n",
    "        'C':[9,10,11,12],\n",
    "        'D':[12,13,14,15]}\n",
    "df12=pd.DataFrame(data1)\n",
    "print(df12)\n",
    "print(df12.head(2))\n",
    "print(df12.tail(2))\n",
    "print(df12.T)\n",
    "print(df12.sum())\n",
    "print(df12.sum(1))"
   ]
  },
  {
   "attachments": {},
   "cell_type": "markdown",
   "metadata": {},
   "source": [
    "#### 2.Pandas的数据查询"
   ]
  }
 ],
 "metadata": {
  "kernelspec": {
   "display_name": "Python 3",
   "language": "python",
   "name": "python3"
  },
  "language_info": {
   "codemirror_mode": {
    "name": "ipython",
    "version": 3
   },
   "file_extension": ".py",
   "mimetype": "text/x-python",
   "name": "python",
   "nbconvert_exporter": "python",
   "pygments_lexer": "ipython3",
   "version": "3.10.7"
  },
  "orig_nbformat": 4,
  "vscode": {
   "interpreter": {
    "hash": "26de051ba29f2982a8de78e945f0abaf191376122a1563185a90213a26c5da77"
   }
  }
 },
 "nbformat": 4,
 "nbformat_minor": 2
}
